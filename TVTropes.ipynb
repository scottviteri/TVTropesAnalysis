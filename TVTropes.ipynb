{
 "cells": [
  {
   "cell_type": "markdown",
   "metadata": {},
   "source": [
    "# TV Tropes\n",
    "## The stories underlying stories\n"
   ]
  },
  {
   "cell_type": "code",
   "execution_count": 5,
   "metadata": {},
   "outputs": [],
   "source": [
    "import numpy as np\n",
    "#import itertools\n",
    "import matplotlib.pyplot as plt\n",
    "import IPython.display as ipd\n",
    "#from ipywidgets import interact\n",
    "import re\n",
    "\n",
    "#import sklearn.datasets as datasets\n",
    "#import pandas as pd\n",
    "#from sklearn.tree import DecisionTreeClassifier\n",
    "#from sklearn.externals.six import StringIO  \n",
    "#from IPython.display import Image\n",
    "#from IPython.display import display\n",
    "#from sklearn.tree import export_graphviz\n",
    "#import pydotplus\n",
    "\n",
    "import sys\n",
    "\n",
    "%matplotlib inline\n",
    "plt.rcParams['figure.figsize'] = (12, 4)"
   ]
  },
  {
   "cell_type": "markdown",
   "metadata": {},
   "source": [
    "### First, we grab data\n",
    "https://old.datahub.io/dataset/dbtropes"
   ]
  },
  {
   "cell_type": "code",
   "execution_count": null,
   "metadata": {},
   "outputs": [],
   "source": []
  }
 ],
 "metadata": {
  "kernelspec": {
   "display_name": "Python 3",
   "language": "python",
   "name": "python3"
  },
  "language_info": {
   "codemirror_mode": {
    "name": "ipython",
    "version": 3
   },
   "file_extension": ".py",
   "mimetype": "text/x-python",
   "name": "python",
   "nbconvert_exporter": "python",
   "pygments_lexer": "ipython3",
   "version": "3.6.7"
  },
  "widgets": {
   "state": {
    "308ca0cb7e5f4a60b80400c936b686f8": {
     "views": [
      {
       "cell_index": 24
      }
     ]
    },
    "4914a264520e41b284509ff29d14e27c": {
     "views": [
      {
       "cell_index": 15
      }
     ]
    },
    "4b8b9a3dba2c41d0a8e1aaa31fbca102": {
     "views": [
      {
       "cell_index": 78
      }
     ]
    },
    "8c47e9db89c84a56ae00f0c6448c30ce": {
     "views": [
      {
       "cell_index": 26
      }
     ]
    },
    "90d101046d5b49b1ba10e7904c0cb29a": {
     "views": [
      {
       "cell_index": 70
      }
     ]
    },
    "b09022601cf64ee98f3b19a11e09f981": {
     "views": [
      {
       "cell_index": 79
      }
     ]
    },
    "bfb717b3463443c4b97d2e3976c61f5c": {
     "views": [
      {
       "cell_index": 32
      }
     ]
    },
    "cdba7379088042cfa3899664e1c2bc34": {
     "views": [
      {
       "cell_index": 34
      }
     ]
    }
   },
   "version": "1.2.0"
  }
 },
 "nbformat": 4,
 "nbformat_minor": 1
}
